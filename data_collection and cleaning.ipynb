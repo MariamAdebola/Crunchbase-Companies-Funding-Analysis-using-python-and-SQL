{
 "cells": [
  {
   "cell_type": "markdown",
   "id": "486273bf",
   "metadata": {},
   "source": [
    "### Introduction:\n",
    "\n",
    "\n",
    "This study involves downloading a CSV file containing data on funded companies from Crunchbase. The process of data cleaning and transformation includes:\n",
    "\n",
    "* Exploring the data and dealing with null values,\n",
    "* Renaming columns for clarity,\n",
    "* Creating new identifier column,\n",
    "* Writing functions to identify and address areas that need attention."
   ]
  },
  {
   "cell_type": "markdown",
   "id": "22060eca",
   "metadata": {},
   "source": [
    "### Install & Import Necessary Libraries\n"
   ]
  },
  {
   "cell_type": "code",
   "execution_count": 1,
   "id": "fb215e08",
   "metadata": {},
   "outputs": [],
   "source": [
    "# pip install ipython-sql pymysql plotly"
   ]
  },
  {
   "cell_type": "code",
   "execution_count": 2,
   "id": "73e40f12",
   "metadata": {},
   "outputs": [],
   "source": [
    "\n",
    "import pandas as pd\n"
   ]
  },
  {
   "cell_type": "markdown",
   "id": "2d22f152",
   "metadata": {},
   "source": [
    "### Collecting the data\n"
   ]
  },
  {
   "cell_type": "code",
   "execution_count": 3,
   "id": "1e33ca2a",
   "metadata": {},
   "outputs": [
    {
     "data": {
      "text/html": [
       "<div>\n",
       "<style scoped>\n",
       "    .dataframe tbody tr th:only-of-type {\n",
       "        vertical-align: middle;\n",
       "    }\n",
       "\n",
       "    .dataframe tbody tr th {\n",
       "        vertical-align: top;\n",
       "    }\n",
       "\n",
       "    .dataframe thead th {\n",
       "        text-align: right;\n",
       "    }\n",
       "</style>\n",
       "<table border=\"1\" class=\"dataframe\">\n",
       "  <thead>\n",
       "    <tr style=\"text-align: right;\">\n",
       "      <th></th>\n",
       "      <th>id</th>\n",
       "      <th>Unnamed: 0.1</th>\n",
       "      <th>entity_type</th>\n",
       "      <th>entity_id</th>\n",
       "      <th>parent_id</th>\n",
       "      <th>name</th>\n",
       "      <th>normalized_name</th>\n",
       "      <th>permalink</th>\n",
       "      <th>category_code</th>\n",
       "      <th>status</th>\n",
       "      <th>...</th>\n",
       "      <th>first_milestone_at</th>\n",
       "      <th>last_milestone_at</th>\n",
       "      <th>milestones</th>\n",
       "      <th>relationships</th>\n",
       "      <th>created_by</th>\n",
       "      <th>created_at</th>\n",
       "      <th>updated_at</th>\n",
       "      <th>lat</th>\n",
       "      <th>lng</th>\n",
       "      <th>ROI</th>\n",
       "    </tr>\n",
       "  </thead>\n",
       "  <tbody>\n",
       "    <tr>\n",
       "      <th>0</th>\n",
       "      <td>c:1</td>\n",
       "      <td>0</td>\n",
       "      <td>Company</td>\n",
       "      <td>1</td>\n",
       "      <td>NaN</td>\n",
       "      <td>Wetpaint</td>\n",
       "      <td>wetpaint</td>\n",
       "      <td>/company/wetpaint</td>\n",
       "      <td>web</td>\n",
       "      <td>operating</td>\n",
       "      <td>...</td>\n",
       "      <td>2010-09-05</td>\n",
       "      <td>2013-09-18</td>\n",
       "      <td>5.0</td>\n",
       "      <td>17.0</td>\n",
       "      <td>initial-importer</td>\n",
       "      <td>2007-05-25 06:51:27</td>\n",
       "      <td>2013-04-13 03:29:00</td>\n",
       "      <td>47.606209</td>\n",
       "      <td>-122.332071</td>\n",
       "      <td>15.5</td>\n",
       "    </tr>\n",
       "    <tr>\n",
       "      <th>1</th>\n",
       "      <td>c:10</td>\n",
       "      <td>1</td>\n",
       "      <td>Company</td>\n",
       "      <td>10</td>\n",
       "      <td>NaN</td>\n",
       "      <td>Flektor</td>\n",
       "      <td>flektor</td>\n",
       "      <td>/company/flektor</td>\n",
       "      <td>games_video</td>\n",
       "      <td>acquired</td>\n",
       "      <td>...</td>\n",
       "      <td>NaN</td>\n",
       "      <td>NaN</td>\n",
       "      <td>NaN</td>\n",
       "      <td>6.0</td>\n",
       "      <td>initial-importer</td>\n",
       "      <td>2007-05-31 21:11:51</td>\n",
       "      <td>2008-05-23 23:23:14</td>\n",
       "      <td>34.021122</td>\n",
       "      <td>-118.396467</td>\n",
       "      <td>NaN</td>\n",
       "    </tr>\n",
       "  </tbody>\n",
       "</table>\n",
       "<p>2 rows × 44 columns</p>\n",
       "</div>"
      ],
      "text/plain": [
       "     id  Unnamed: 0.1 entity_type  entity_id  parent_id      name  \\\n",
       "0   c:1             0     Company          1        NaN  Wetpaint   \n",
       "1  c:10             1     Company         10        NaN   Flektor   \n",
       "\n",
       "  normalized_name          permalink category_code     status  ...  \\\n",
       "0        wetpaint  /company/wetpaint           web  operating  ...   \n",
       "1         flektor   /company/flektor   games_video   acquired  ...   \n",
       "\n",
       "  first_milestone_at last_milestone_at milestones relationships  \\\n",
       "0         2010-09-05        2013-09-18        5.0          17.0   \n",
       "1                NaN               NaN        NaN           6.0   \n",
       "\n",
       "         created_by           created_at           updated_at        lat  \\\n",
       "0  initial-importer  2007-05-25 06:51:27  2013-04-13 03:29:00  47.606209   \n",
       "1  initial-importer  2007-05-31 21:11:51  2008-05-23 23:23:14  34.021122   \n",
       "\n",
       "          lng   ROI  \n",
       "0 -122.332071  15.5  \n",
       "1 -118.396467   NaN  \n",
       "\n",
       "[2 rows x 44 columns]"
      ]
     },
     "execution_count": 3,
     "metadata": {},
     "output_type": "execute_result"
    }
   ],
   "source": [
    "\n",
    "\n",
    "#extract the csv data file into a pandas dataframe\n",
    "\n",
    "data = pd.read_csv('/Users/mariamadeoti/Downloads/companies.csv')\n",
    "data.head(2)\n",
    "\n"
   ]
  },
  {
   "cell_type": "markdown",
   "id": "a1df42d9",
   "metadata": {},
   "source": [
    "### Data Pre-processing and Cleaning\n"
   ]
  },
  {
   "cell_type": "markdown",
   "id": "5c14784f",
   "metadata": {},
   "source": [
    "### a. select relevant columns\n"
   ]
  },
  {
   "cell_type": "code",
   "execution_count": 4,
   "id": "9f98ee4b",
   "metadata": {},
   "outputs": [
    {
     "data": {
      "text/plain": [
       "(196553, 44)"
      ]
     },
     "execution_count": 4,
     "metadata": {},
     "output_type": "execute_result"
    }
   ],
   "source": [
    "\n",
    "#checks the count of rows and columns in the dataframe\n",
    "\n",
    "data.shape\n"
   ]
  },
  {
   "cell_type": "code",
   "execution_count": 5,
   "id": "65d5fc40",
   "metadata": {},
   "outputs": [
    {
     "data": {
      "text/html": [
       "<div>\n",
       "<style scoped>\n",
       "    .dataframe tbody tr th:only-of-type {\n",
       "        vertical-align: middle;\n",
       "    }\n",
       "\n",
       "    .dataframe tbody tr th {\n",
       "        vertical-align: top;\n",
       "    }\n",
       "\n",
       "    .dataframe thead th {\n",
       "        text-align: right;\n",
       "    }\n",
       "</style>\n",
       "<table border=\"1\" class=\"dataframe\">\n",
       "  <thead>\n",
       "    <tr style=\"text-align: right;\">\n",
       "      <th></th>\n",
       "      <th>permalink</th>\n",
       "      <th>name</th>\n",
       "      <th>homepage_url</th>\n",
       "      <th>category_code</th>\n",
       "      <th>funding_total_usd</th>\n",
       "      <th>status</th>\n",
       "      <th>country_code</th>\n",
       "      <th>state_code</th>\n",
       "      <th>region</th>\n",
       "      <th>city</th>\n",
       "      <th>funding_rounds</th>\n",
       "      <th>founded_at</th>\n",
       "    </tr>\n",
       "  </thead>\n",
       "  <tbody>\n",
       "    <tr>\n",
       "      <th>0</th>\n",
       "      <td>/company/wetpaint</td>\n",
       "      <td>Wetpaint</td>\n",
       "      <td>http://wetpaint-inc.com</td>\n",
       "      <td>web</td>\n",
       "      <td>39750000.0</td>\n",
       "      <td>operating</td>\n",
       "      <td>USA</td>\n",
       "      <td>WA</td>\n",
       "      <td>Seattle</td>\n",
       "      <td>Seattle</td>\n",
       "      <td>3.0</td>\n",
       "      <td>2005-10-17</td>\n",
       "    </tr>\n",
       "    <tr>\n",
       "      <th>1</th>\n",
       "      <td>/company/flektor</td>\n",
       "      <td>Flektor</td>\n",
       "      <td>http://www.flektor.com</td>\n",
       "      <td>games_video</td>\n",
       "      <td>NaN</td>\n",
       "      <td>acquired</td>\n",
       "      <td>USA</td>\n",
       "      <td>CA</td>\n",
       "      <td>Los Angeles</td>\n",
       "      <td>Culver City</td>\n",
       "      <td>NaN</td>\n",
       "      <td>NaN</td>\n",
       "    </tr>\n",
       "  </tbody>\n",
       "</table>\n",
       "</div>"
      ],
      "text/plain": [
       "           permalink      name             homepage_url category_code  \\\n",
       "0  /company/wetpaint  Wetpaint  http://wetpaint-inc.com           web   \n",
       "1   /company/flektor   Flektor   http://www.flektor.com   games_video   \n",
       "\n",
       "   funding_total_usd     status country_code state_code       region  \\\n",
       "0         39750000.0  operating          USA         WA      Seattle   \n",
       "1                NaN   acquired          USA         CA  Los Angeles   \n",
       "\n",
       "          city  funding_rounds  founded_at  \n",
       "0      Seattle             3.0  2005-10-17  \n",
       "1  Culver City             NaN         NaN  "
      ]
     },
     "execution_count": 5,
     "metadata": {},
     "output_type": "execute_result"
    }
   ],
   "source": [
    "\n",
    "\n",
    "#selects only relevant columns\n",
    "\n",
    "required_columns = ['permalink', 'name', 'homepage_url', 'category_code', \n",
    "                    'funding_total_usd', 'status', 'country_code', 'state_code',\n",
    "                       'region', 'city', 'funding_rounds', 'founded_at']\n",
    "\n",
    "\n",
    "#stores the relevant columns back to the dataframe\n",
    "\n",
    "data = data[required_columns]\n",
    "\n",
    "\n",
    "#displays the first 2 rows of the dataframe\n",
    "\n",
    "data.head(2)\n",
    "\n"
   ]
  },
  {
   "cell_type": "markdown",
   "id": "4da066e0",
   "metadata": {},
   "source": [
    "\n",
    "### b. check for duplicates\n"
   ]
  },
  {
   "cell_type": "code",
   "execution_count": 6,
   "id": "11d8f421",
   "metadata": {},
   "outputs": [
    {
     "name": "stdout",
     "output_type": "stream",
     "text": [
      "The number of duplicate values is 38\n"
     ]
    }
   ],
   "source": [
    "\n",
    "#check for the count of duplicates\n",
    "\n",
    "print(f\"The number of duplicate values is {data.duplicated().sum()}\")\n"
   ]
  },
  {
   "cell_type": "code",
   "execution_count": 7,
   "id": "c38dd5d7",
   "metadata": {},
   "outputs": [],
   "source": [
    "\n",
    "#delete all the duplicate rows\n",
    "\n",
    "data.drop_duplicates(inplace=True)\n",
    "\n"
   ]
  },
  {
   "cell_type": "code",
   "execution_count": 8,
   "id": "cc111d25",
   "metadata": {},
   "outputs": [
    {
     "name": "stdout",
     "output_type": "stream",
     "text": [
      "The number of duplicate values is 0\n"
     ]
    }
   ],
   "source": [
    "#check for the count of duplicates again\n",
    "\n",
    "print(f\"The number of duplicate values is {data.duplicated().sum()}\")\n"
   ]
  },
  {
   "cell_type": "markdown",
   "id": "75863bac",
   "metadata": {},
   "source": [
    "\n",
    "### c. check for data type consistency\n"
   ]
  },
  {
   "cell_type": "code",
   "execution_count": 9,
   "id": "c9bbc29c",
   "metadata": {},
   "outputs": [
    {
     "data": {
      "text/plain": [
       "permalink             object\n",
       "name                  object\n",
       "homepage_url          object\n",
       "category_code         object\n",
       "funding_total_usd    float64\n",
       "status                object\n",
       "country_code          object\n",
       "state_code            object\n",
       "region                object\n",
       "city                  object\n",
       "funding_rounds       float64\n",
       "founded_at            object\n",
       "dtype: object"
      ]
     },
     "execution_count": 9,
     "metadata": {},
     "output_type": "execute_result"
    }
   ],
   "source": [
    "\n",
    "data.dtypes\n"
   ]
  },
  {
   "cell_type": "markdown",
   "id": "7814363a",
   "metadata": {},
   "source": [
    "### d. check for null values"
   ]
  },
  {
   "cell_type": "code",
   "execution_count": 10,
   "id": "15f8f7fc",
   "metadata": {},
   "outputs": [
    {
     "data": {
      "text/plain": [
       "permalink                 0\n",
       "name                     23\n",
       "homepage_url          69976\n",
       "category_code         73334\n",
       "funding_total_usd    168641\n",
       "status                    0\n",
       "country_code         108527\n",
       "state_code           145613\n",
       "region                    0\n",
       "city                 112627\n",
       "funding_rounds       164808\n",
       "founded_at           105292\n",
       "dtype: int64"
      ]
     },
     "execution_count": 10,
     "metadata": {},
     "output_type": "execute_result"
    }
   ],
   "source": [
    "\n",
    "\n",
    "data.isnull().sum()\n",
    "\n"
   ]
  },
  {
   "cell_type": "markdown",
   "id": "824fb3ba",
   "metadata": {},
   "source": [
    "### e. Dropping columns - my analysis will center around funded companies, I will drop all null cells in funding total column"
   ]
  },
  {
   "cell_type": "code",
   "execution_count": 11,
   "id": "3fabe23a",
   "metadata": {},
   "outputs": [
    {
     "name": "stdout",
     "output_type": "stream",
     "text": [
      "The number of null cells in the total funding usd column is 168641\n"
     ]
    }
   ],
   "source": [
    "\n",
    "\n",
    "print(f\"The number of null cells in the total funding usd column is {data['funding_total_usd'].isnull().sum()}\")\n"
   ]
  },
  {
   "cell_type": "code",
   "execution_count": 12,
   "id": "cc08071e",
   "metadata": {},
   "outputs": [],
   "source": [
    "\n",
    "#drop the null cells\n",
    "\n",
    "data.dropna(subset = ['funding_total_usd'], inplace=True)\n",
    "\n"
   ]
  },
  {
   "cell_type": "code",
   "execution_count": 13,
   "id": "76a5b3f7",
   "metadata": {},
   "outputs": [
    {
     "name": "stdout",
     "output_type": "stream",
     "text": [
      "The number of null cells in the total funding usd column is 0\n"
     ]
    }
   ],
   "source": [
    "\n",
    "#check if the null cells have been removed\n",
    "\n",
    "print(f\"The number of null cells in the total funding usd column is {data['funding_total_usd'].isnull().sum()}\")\n"
   ]
  },
  {
   "cell_type": "markdown",
   "id": "bf117b60",
   "metadata": {},
   "source": [
    "### f. create a unique identifier for each row"
   ]
  },
  {
   "cell_type": "code",
   "execution_count": 14,
   "id": "854c9fdc",
   "metadata": {},
   "outputs": [
    {
     "data": {
      "text/html": [
       "<div>\n",
       "<style scoped>\n",
       "    .dataframe tbody tr th:only-of-type {\n",
       "        vertical-align: middle;\n",
       "    }\n",
       "\n",
       "    .dataframe tbody tr th {\n",
       "        vertical-align: top;\n",
       "    }\n",
       "\n",
       "    .dataframe thead th {\n",
       "        text-align: right;\n",
       "    }\n",
       "</style>\n",
       "<table border=\"1\" class=\"dataframe\">\n",
       "  <thead>\n",
       "    <tr style=\"text-align: right;\">\n",
       "      <th></th>\n",
       "      <th>id</th>\n",
       "      <th>permalink</th>\n",
       "      <th>name</th>\n",
       "      <th>homepage_url</th>\n",
       "      <th>category_code</th>\n",
       "      <th>funding_total_usd</th>\n",
       "      <th>status</th>\n",
       "      <th>country_code</th>\n",
       "      <th>state_code</th>\n",
       "      <th>region</th>\n",
       "      <th>city</th>\n",
       "      <th>funding_rounds</th>\n",
       "      <th>founded_at</th>\n",
       "    </tr>\n",
       "  </thead>\n",
       "  <tbody>\n",
       "    <tr>\n",
       "      <th>0</th>\n",
       "      <td>1</td>\n",
       "      <td>/company/wetpaint</td>\n",
       "      <td>Wetpaint</td>\n",
       "      <td>http://wetpaint-inc.com</td>\n",
       "      <td>web</td>\n",
       "      <td>39750000.0</td>\n",
       "      <td>operating</td>\n",
       "      <td>USA</td>\n",
       "      <td>WA</td>\n",
       "      <td>Seattle</td>\n",
       "      <td>Seattle</td>\n",
       "      <td>3.0</td>\n",
       "      <td>2005-10-17</td>\n",
       "    </tr>\n",
       "    <tr>\n",
       "      <th>13</th>\n",
       "      <td>2</td>\n",
       "      <td>/company/friendfeed</td>\n",
       "      <td>FriendFeed</td>\n",
       "      <td>http://friendfeed.com</td>\n",
       "      <td>web</td>\n",
       "      <td>5000000.0</td>\n",
       "      <td>acquired</td>\n",
       "      <td>USA</td>\n",
       "      <td>CA</td>\n",
       "      <td>SF Bay</td>\n",
       "      <td>Mountain View</td>\n",
       "      <td>1.0</td>\n",
       "      <td>2007-10-01</td>\n",
       "    </tr>\n",
       "  </tbody>\n",
       "</table>\n",
       "</div>"
      ],
      "text/plain": [
       "    id            permalink        name             homepage_url  \\\n",
       "0    1    /company/wetpaint    Wetpaint  http://wetpaint-inc.com   \n",
       "13   2  /company/friendfeed  FriendFeed    http://friendfeed.com   \n",
       "\n",
       "   category_code  funding_total_usd     status country_code state_code  \\\n",
       "0            web         39750000.0  operating          USA         WA   \n",
       "13           web          5000000.0   acquired          USA         CA   \n",
       "\n",
       "     region           city  funding_rounds  founded_at  \n",
       "0   Seattle        Seattle             3.0  2005-10-17  \n",
       "13   SF Bay  Mountain View             1.0  2007-10-01  "
      ]
     },
     "execution_count": 14,
     "metadata": {},
     "output_type": "execute_result"
    }
   ],
   "source": [
    "\n",
    "\n",
    "data.insert(data.columns.get_loc('permalink'), 'id', range(1, len(data)+1))\n",
    "\n",
    "data.head(2)\n"
   ]
  },
  {
   "cell_type": "markdown",
   "id": "238b01ce",
   "metadata": {},
   "source": [
    "### g. convert the name column to lowercase\n"
   ]
  },
  {
   "cell_type": "code",
   "execution_count": 15,
   "id": "1733f781",
   "metadata": {},
   "outputs": [
    {
     "data": {
      "text/html": [
       "<div>\n",
       "<style scoped>\n",
       "    .dataframe tbody tr th:only-of-type {\n",
       "        vertical-align: middle;\n",
       "    }\n",
       "\n",
       "    .dataframe tbody tr th {\n",
       "        vertical-align: top;\n",
       "    }\n",
       "\n",
       "    .dataframe thead th {\n",
       "        text-align: right;\n",
       "    }\n",
       "</style>\n",
       "<table border=\"1\" class=\"dataframe\">\n",
       "  <thead>\n",
       "    <tr style=\"text-align: right;\">\n",
       "      <th></th>\n",
       "      <th>id</th>\n",
       "      <th>permalink</th>\n",
       "      <th>name</th>\n",
       "      <th>homepage_url</th>\n",
       "      <th>category_code</th>\n",
       "      <th>funding_total_usd</th>\n",
       "      <th>status</th>\n",
       "      <th>country_code</th>\n",
       "      <th>state_code</th>\n",
       "      <th>region</th>\n",
       "      <th>city</th>\n",
       "      <th>funding_rounds</th>\n",
       "      <th>founded_at</th>\n",
       "    </tr>\n",
       "  </thead>\n",
       "  <tbody>\n",
       "    <tr>\n",
       "      <th>0</th>\n",
       "      <td>1</td>\n",
       "      <td>/company/wetpaint</td>\n",
       "      <td>wetpaint</td>\n",
       "      <td>http://wetpaint-inc.com</td>\n",
       "      <td>web</td>\n",
       "      <td>39750000.0</td>\n",
       "      <td>operating</td>\n",
       "      <td>USA</td>\n",
       "      <td>WA</td>\n",
       "      <td>seattle</td>\n",
       "      <td>seattle</td>\n",
       "      <td>3.0</td>\n",
       "      <td>2005-10-17</td>\n",
       "    </tr>\n",
       "    <tr>\n",
       "      <th>13</th>\n",
       "      <td>2</td>\n",
       "      <td>/company/friendfeed</td>\n",
       "      <td>friendfeed</td>\n",
       "      <td>http://friendfeed.com</td>\n",
       "      <td>web</td>\n",
       "      <td>5000000.0</td>\n",
       "      <td>acquired</td>\n",
       "      <td>USA</td>\n",
       "      <td>CA</td>\n",
       "      <td>sf bay</td>\n",
       "      <td>mountain view</td>\n",
       "      <td>1.0</td>\n",
       "      <td>2007-10-01</td>\n",
       "    </tr>\n",
       "  </tbody>\n",
       "</table>\n",
       "</div>"
      ],
      "text/plain": [
       "    id            permalink        name             homepage_url  \\\n",
       "0    1    /company/wetpaint    wetpaint  http://wetpaint-inc.com   \n",
       "13   2  /company/friendfeed  friendfeed    http://friendfeed.com   \n",
       "\n",
       "   category_code  funding_total_usd     status country_code state_code  \\\n",
       "0            web         39750000.0  operating          USA         WA   \n",
       "13           web          5000000.0   acquired          USA         CA   \n",
       "\n",
       "     region           city  funding_rounds  founded_at  \n",
       "0   seattle        seattle             3.0  2005-10-17  \n",
       "13   sf bay  mountain view             1.0  2007-10-01  "
      ]
     },
     "execution_count": 15,
     "metadata": {},
     "output_type": "execute_result"
    }
   ],
   "source": [
    "\n",
    "\n",
    "data[['name', 'region', 'city']] = data[['name', 'region', 'city']].apply(lambda x : x.str.lower())\n",
    "\n",
    "data.head(2)\n"
   ]
  },
  {
   "cell_type": "markdown",
   "id": "9bc21650",
   "metadata": {},
   "source": [
    "### h. rename the category column\n"
   ]
  },
  {
   "cell_type": "code",
   "execution_count": 16,
   "id": "b229a201",
   "metadata": {},
   "outputs": [
    {
     "data": {
      "text/html": [
       "<div>\n",
       "<style scoped>\n",
       "    .dataframe tbody tr th:only-of-type {\n",
       "        vertical-align: middle;\n",
       "    }\n",
       "\n",
       "    .dataframe tbody tr th {\n",
       "        vertical-align: top;\n",
       "    }\n",
       "\n",
       "    .dataframe thead th {\n",
       "        text-align: right;\n",
       "    }\n",
       "</style>\n",
       "<table border=\"1\" class=\"dataframe\">\n",
       "  <thead>\n",
       "    <tr style=\"text-align: right;\">\n",
       "      <th></th>\n",
       "      <th>id</th>\n",
       "      <th>permalink</th>\n",
       "      <th>name</th>\n",
       "      <th>homepage_url</th>\n",
       "      <th>sector</th>\n",
       "      <th>funding_total_usd</th>\n",
       "      <th>status</th>\n",
       "      <th>country_code</th>\n",
       "      <th>state_code</th>\n",
       "      <th>region</th>\n",
       "      <th>city</th>\n",
       "      <th>funding_rounds</th>\n",
       "      <th>founded_at</th>\n",
       "    </tr>\n",
       "  </thead>\n",
       "  <tbody>\n",
       "    <tr>\n",
       "      <th>0</th>\n",
       "      <td>1</td>\n",
       "      <td>/company/wetpaint</td>\n",
       "      <td>wetpaint</td>\n",
       "      <td>http://wetpaint-inc.com</td>\n",
       "      <td>web</td>\n",
       "      <td>39750000.0</td>\n",
       "      <td>operating</td>\n",
       "      <td>USA</td>\n",
       "      <td>WA</td>\n",
       "      <td>seattle</td>\n",
       "      <td>seattle</td>\n",
       "      <td>3.0</td>\n",
       "      <td>2005-10-17</td>\n",
       "    </tr>\n",
       "    <tr>\n",
       "      <th>13</th>\n",
       "      <td>2</td>\n",
       "      <td>/company/friendfeed</td>\n",
       "      <td>friendfeed</td>\n",
       "      <td>http://friendfeed.com</td>\n",
       "      <td>web</td>\n",
       "      <td>5000000.0</td>\n",
       "      <td>acquired</td>\n",
       "      <td>USA</td>\n",
       "      <td>CA</td>\n",
       "      <td>sf bay</td>\n",
       "      <td>mountain view</td>\n",
       "      <td>1.0</td>\n",
       "      <td>2007-10-01</td>\n",
       "    </tr>\n",
       "  </tbody>\n",
       "</table>\n",
       "</div>"
      ],
      "text/plain": [
       "    id            permalink        name             homepage_url sector  \\\n",
       "0    1    /company/wetpaint    wetpaint  http://wetpaint-inc.com    web   \n",
       "13   2  /company/friendfeed  friendfeed    http://friendfeed.com    web   \n",
       "\n",
       "    funding_total_usd     status country_code state_code   region  \\\n",
       "0          39750000.0  operating          USA         WA  seattle   \n",
       "13          5000000.0   acquired          USA         CA   sf bay   \n",
       "\n",
       "             city  funding_rounds  founded_at  \n",
       "0         seattle             3.0  2005-10-17  \n",
       "13  mountain view             1.0  2007-10-01  "
      ]
     },
     "execution_count": 16,
     "metadata": {},
     "output_type": "execute_result"
    }
   ],
   "source": [
    "\n",
    "data.rename(columns = {'category_code':'sector'}, inplace = True)\n",
    "data.head(2)"
   ]
  },
  {
   "cell_type": "markdown",
   "id": "8c457cb3",
   "metadata": {},
   "source": [
    "## Store the cleaned dataframe into a new csv file"
   ]
  },
  {
   "cell_type": "code",
   "execution_count": 17,
   "id": "b6fcf675",
   "metadata": {},
   "outputs": [],
   "source": [
    "data.to_csv('cleaned_data.csv', index=False )"
   ]
  },
  {
   "cell_type": "code",
   "execution_count": null,
   "id": "398c70e5",
   "metadata": {},
   "outputs": [],
   "source": []
  }
 ],
 "metadata": {
  "kernelspec": {
   "display_name": "Python 3 (ipykernel)",
   "language": "python",
   "name": "python3"
  },
  "language_info": {
   "codemirror_mode": {
    "name": "ipython",
    "version": 3
   },
   "file_extension": ".py",
   "mimetype": "text/x-python",
   "name": "python",
   "nbconvert_exporter": "python",
   "pygments_lexer": "ipython3",
   "version": "3.11.5"
  }
 },
 "nbformat": 4,
 "nbformat_minor": 5
}
