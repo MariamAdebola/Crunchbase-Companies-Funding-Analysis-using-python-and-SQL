{
 "cells": [
  {
   "cell_type": "markdown",
   "id": "f7e29ebf",
   "metadata": {},
   "source": [
    "### The funded companies' data was downloaded from Crunchbase to uncover interesting trends. Here are some research questions to explore in the analysis:\n",
    "\n",
    "* What are the funding trends by sector and across different countries?\n",
    "* Is there any evidence of a funding bubble or funding winter in certain years?\n",
    "* Which startups raised a significant amount of money but eventually shut down?\n",
    "* In which parts of the world are the top-funded startups based?\n"
   ]
  },
  {
   "cell_type": "code",
   "execution_count": null,
   "id": "a1a0583d",
   "metadata": {},
   "outputs": [],
   "source": []
  }
 ],
 "metadata": {
  "kernelspec": {
   "display_name": "Python 3 (ipykernel)",
   "language": "python",
   "name": "python3"
  },
  "language_info": {
   "codemirror_mode": {
    "name": "ipython",
    "version": 3
   },
   "file_extension": ".py",
   "mimetype": "text/x-python",
   "name": "python",
   "nbconvert_exporter": "python",
   "pygments_lexer": "ipython3",
   "version": "3.11.5"
  }
 },
 "nbformat": 4,
 "nbformat_minor": 5
}
